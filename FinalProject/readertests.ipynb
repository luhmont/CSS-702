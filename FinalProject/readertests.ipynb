{
 "cells": [
  {
   "cell_type": "code",
   "execution_count": 10,
   "metadata": {},
   "outputs": [],
   "source": [
    "#pip install spark-nlp\n",
    "#pip install pyspark\n",
    "\n",
    "\n",
    "#pip install --upgrade pymupdf\n",
    "#pip install -U sentence-transformers\n",
    "\n",
    "import pymupdf\n",
    "from sentence_transformers import SentenceTransformer\n",
    "\n",
    "def pdf_reader(): #test method for reading pdfs\n",
    "    #open file\n",
    "    file = pymupdf.open(\"Merged March 2023 (wine).pdf\")\n",
    "    \n",
    "    #read the file\n",
    "    out = open(\"output.txt\", \"wb\") #prints text to output file in the directory\n",
    "    for page in file: #iterate the pages\n",
    "        text = page.get_text().encode(\"utf8\") #get plain text\n",
    "        out.write(text) #write text of page\n",
    "        out.write(bytes((12,))) #write page delimiter (form feed 0x0C)\n",
    "    #print(out)\n",
    "        \n",
    "    out.close\n",
    "    return\n",
    "\n",
    "def txt_reader(): #test method for reading text files\n",
    "    #open file\n",
    "    file = open(\"testerfile.txt\")\n",
    "    \n",
    "    #read the file\n",
    "    content = file.read()\n",
    "    print(content)\n",
    "    \n",
    "    #close the file\n",
    "    file.close()\n",
    "    return"
   ]
  },
  {
   "cell_type": "code",
   "execution_count": 11,
   "metadata": {},
   "outputs": [],
   "source": [
    "def main():\n",
    "    #doc = pymupdf.open(\"\")\n",
    "    #txt_reader()\n",
    "    pdf_reader()\n",
    "    return\n",
    "\n",
    "if __name__ == \"__main__\":\n",
    "    main()"
   ]
  },
  {
   "cell_type": "code",
   "execution_count": null,
   "metadata": {},
   "outputs": [],
   "source": [
    "# 1. Load a pretrained Sentence Transformer model\n",
    "model = SentenceTransformer(\"all-MiniLM-L6-v2\")\n",
    "\n",
    "sentence1 = \"The weather is lovely today.\"\n",
    "sentence2 = \"It's so sunny outside!\"\n",
    "sentence3 = \"He drove to the stadium.\"\n",
    "\n",
    "# The sentences to encode\n",
    "sentences = [\n",
    "    sentence1,\n",
    "    sentence2,\n",
    "    sentence3,\n",
    "]\n",
    "\n",
    "# 2. Calculate embeddings by calling model.encode()\n",
    "embeddings = model.encode(sentences)\n",
    "print(embeddings.shape)\n",
    "# [3, 384]\n",
    "\n",
    "# 3. Calculate the embedding similarities\n",
    "similarities = model.similarity(embeddings, embeddings)\n",
    "print(similarities)\n",
    "# tensor([[1.0000, 0.6660, 0.1046],\n",
    "#         [0.6660, 1.0000, 0.1411],\n",
    "#         [0.1046, 0.1411, 1.0000]])"
   ]
  }
 ],
 "metadata": {
  "kernelspec": {
   "display_name": "base",
   "language": "python",
   "name": "python3"
  },
  "language_info": {
   "codemirror_mode": {
    "name": "ipython",
    "version": 3
   },
   "file_extension": ".py",
   "mimetype": "text/x-python",
   "name": "python",
   "nbconvert_exporter": "python",
   "pygments_lexer": "ipython3",
   "version": "3.12.4"
  }
 },
 "nbformat": 4,
 "nbformat_minor": 2
}
