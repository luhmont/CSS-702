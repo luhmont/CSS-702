{
 "cells": [
  {
   "cell_type": "code",
   "execution_count": 4,
   "metadata": {},
   "outputs": [],
   "source": [
    "#pip install spark-nlp NOT USED\n",
    "#pip install pyspark NOT USED\n",
    "\n",
    "\n",
    "#pip install --upgrade pymupdf\n",
    "#pip install -U sentence-transformers\n",
    "\n",
    "import pymupdf #for reading pdf files\n",
    "from sentence_transformers import SentenceTransformer #for getting vectors from text\n",
    "from pathlib import Path #for reading all pdfs in the folder\n",
    "\n",
    "def pdf_reader(file_path): #test method for reading pdfs\n",
    "    #open file\n",
    "    file = pymupdf.open(file_path)\n",
    "    \n",
    "    #read the file\n",
    "    #out = open(\"output.txt\", \"wb\") #prints text to output file in the directory\n",
    "    out = \"\"\n",
    "    for page in file: #iterate the pages\n",
    "        text = page.get_text() #get plain text\n",
    "        out += text #write text of page\n",
    "    #print(out)\n",
    "        \n",
    "    file.close()\n",
    "    return out\n",
    "\n",
    "def txt_reader(): #test method for reading text files\n",
    "    #open file\n",
    "    file = open(\"testerfile.txt\")\n",
    "    \n",
    "    #read the file\n",
    "    content = file.read()\n",
    "    print(content)\n",
    "    \n",
    "    #close the file\n",
    "    file.close()\n",
    "    return"
   ]
  },
  {
   "cell_type": "code",
   "execution_count": 5,
   "metadata": {},
   "outputs": [],
   "source": [
    "def main():\n",
    "    #doc = pymupdf.open(\"\")\n",
    "    #txt_reader()\n",
    "    #print(pdf_reader(\"Merged March 2023 (wine).pdf\"))\n",
    "    return\n",
    "\n",
    "if __name__ == \"__main__\":\n",
    "    main()"
   ]
  },
  {
   "cell_type": "code",
   "execution_count": 6,
   "metadata": {},
   "outputs": [
    {
     "name": "stdout",
     "output_type": "stream",
     "text": [
      "(3, 384)\n",
      "tensor([[1.0000, 0.6660, 0.1046],\n",
      "        [0.6660, 1.0000, 0.1411],\n",
      "        [0.1046, 0.1411, 1.0000]])\n"
     ]
    }
   ],
   "source": [
    "# 1. Load a pretrained Sentence Transformer model\n",
    "model = SentenceTransformer(\"all-MiniLM-L6-v2\")\n",
    "\n",
    "sentence1 = \"The weather is lovely today.\"\n",
    "sentence2 = \"It's so sunny outside!\"\n",
    "sentence3 = \"He drove to the stadium.\"\n",
    "\n",
    "# The sentences to encode\n",
    "sentences = [\n",
    "    sentence1,\n",
    "    sentence2,\n",
    "    sentence3,\n",
    "]\n",
    "\n",
    "# 2. Calculate embeddings by calling model.encode()\n",
    "embeddings = model.encode(sentences)\n",
    "print(embeddings.shape)\n",
    "# [3, 384]\n",
    "#embedding1 = embeddings[0] #print the embedding for sentence1 in the index 0\n",
    "#print(embedding1)\n",
    "\n",
    "# 3. Calculate the embedding similarities\n",
    "similarities = model.similarity(embeddings, embeddings)\n",
    "print(similarities)\n",
    "# tensor([[1.0000, 0.6660, 0.1046],\n",
    "#         [0.6660, 1.0000, 0.1411],\n",
    "#         [0.1046, 0.1411, 1.0000]])"
   ]
  },
  {
   "cell_type": "code",
   "execution_count": 7,
   "metadata": {},
   "outputs": [
    {
     "name": "stdout",
     "output_type": "stream",
     "text": [
      "(4, 384)\n",
      "[0.5277917385101318, 0.13504096865653992, 0.049987804144620895]\n"
     ]
    }
   ],
   "source": [
    "#logic for ingesting the menus and adding them to a vector space\n",
    "\n",
    "# returns all file paths that has .pdf as extension in the specified directory, from https://stackoverflow.com/questions/70848337/how-to-read-multiple-pdf-from-a-folder-one-by-one\n",
    "pdf_search = Path(str(Path.cwd())).rglob(\"*.pdf\") #gets all the pdf files in the current directory\n",
    "pdf_files = [str(file.absolute()) for file in pdf_search] #iterates over all the pdf files in the current directory and adds them to an array.\n",
    "\n",
    "pdf_filecontent = [pdf_reader(file) for file in pdf_files] #take the file names and extract the text content from them.\n",
    "\n",
    "menuembeddings = model.encode(pdf_filecontent)\n",
    "print(menuembeddings.shape)\n",
    "menuembedding1 = menuembeddings[2] #using the wine restuarant to tests similarity scores\n",
    "\n",
    "\n",
    "prompt0 = \"I like wine and different alcoholic drinks like pinot and red wine, cabernet sauvignon, rose wine, and sauvignon blanc, any wine or beer is good.\"\n",
    "prompt1 = \"I want to eat cheeseburgers and sandwiches, they're some of my favorite foods to eat.\"\n",
    "prompt2 = \"the Dodgers are the best baseball team to ever exist, I like to watch their games on sundays.\"\n",
    "prompts = [prompt0, prompt1, prompt2]\n",
    "promptembeddings = model.encode(prompts)\n",
    "\n",
    "similarities = []\n",
    "for i, embedding in enumerate(promptembeddings):\n",
    "    similarity = model.similarity(embedding, menuembedding1) #compare each prompt in the prompt array to the wine restuarant.\n",
    "    similarities.append(similarity.item()) #append the similarity score to the array in a scalar format\n",
    "    \n",
    "print(similarities)\n"
   ]
  }
 ],
 "metadata": {
  "kernelspec": {
   "display_name": "base",
   "language": "python",
   "name": "python3"
  },
  "language_info": {
   "codemirror_mode": {
    "name": "ipython",
    "version": 3
   },
   "file_extension": ".py",
   "mimetype": "text/x-python",
   "name": "python",
   "nbconvert_exporter": "python",
   "pygments_lexer": "ipython3",
   "version": "3.12.4"
  }
 },
 "nbformat": 4,
 "nbformat_minor": 2
}
