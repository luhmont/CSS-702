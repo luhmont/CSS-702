{
 "cells": [
  {
   "cell_type": "code",
   "execution_count": 13,
   "metadata": {},
   "outputs": [],
   "source": [
    "#pip install spark-nlp\n",
    "#pip install pyspark\n",
    "#pip install --upgrade pymupdf\n",
    "\n",
    "import pymupdf\n",
    "\n",
    "def pdf_reader(): #test method for reading pdfs\n",
    "    #open file\n",
    "    file = pymupdf.open(\"Merged March 2023 (wine).pdf\")\n",
    "    \n",
    "    #read the file\n",
    "    out = open(\"output.txt\", \"wb\")\n",
    "    for page in file: #iterate the pages\n",
    "        text = page.get_text().encode(\"utf8\") #get plain text\n",
    "        out.write(text) #write text of page\n",
    "        out.write(bytes((12,))) #write page delimiter (form feed 0x0C)\n",
    "    print(out)\n",
    "        \n",
    "    out.close\n",
    "    return\n",
    "\n",
    "def txt_reader(): #test method for reading text files\n",
    "    #open file\n",
    "    file = open(\"testerfile.txt\")\n",
    "    \n",
    "    #read the file\n",
    "    content = file.read()\n",
    "    print(content)\n",
    "    \n",
    "    #close the file\n",
    "    file.close()\n",
    "    return\n",
    "\n",
    "\n"
   ]
  },
  {
   "cell_type": "code",
   "execution_count": 14,
   "metadata": {},
   "outputs": [
    {
     "name": "stdout",
     "output_type": "stream",
     "text": [
      "<_io.BufferedWriter name='output.txt'>\n"
     ]
    }
   ],
   "source": [
    "def main():\n",
    "    #doc = pymupdf.open(\"\")\n",
    "    #txt_reader()\n",
    "    pdf_reader()\n",
    "    return\n",
    "\n",
    "if __name__ == \"__main__\":\n",
    "    main()"
   ]
  }
 ],
 "metadata": {
  "kernelspec": {
   "display_name": "base",
   "language": "python",
   "name": "python3"
  },
  "language_info": {
   "codemirror_mode": {
    "name": "ipython",
    "version": 3
   },
   "file_extension": ".py",
   "mimetype": "text/x-python",
   "name": "python",
   "nbconvert_exporter": "python",
   "pygments_lexer": "ipython3",
   "version": "3.12.4"
  }
 },
 "nbformat": 4,
 "nbformat_minor": 2
}
